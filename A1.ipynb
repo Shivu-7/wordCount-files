{
 "cells": [
  {
   "cell_type": "code",
   "execution_count": 2,
   "metadata": {},
   "outputs": [],
   "source": [
    "__author__ = 'abc' #please type your name"
   ]
  },
  {
   "cell_type": "markdown",
   "metadata": {},
   "source": [
    "## Task1: Develop a function to merge two lists. \n",
    "Given two lists of numbers, please first sort each list in increasing order and also remove the repeated elements. Then create and return a merged list of all the elements in the two lists. The elements in the merged list should also be sorted in increasing order, and the repeated elements should be removed. \n"
   ]
  },
  {
   "cell_type": "code",
   "execution_count": 3,
   "metadata": {},
   "outputs": [],
   "source": [
    "def merge_list(li1, li2):\n",
    "    merged_list = [] # initialize an empty list for the merged list.\n",
    "    li1 = sorted((li1))# Your code here to sort list li1 and remove repeated elements.\n",
    "    li2 = sorted((li2))# Your code here to sort list li1 and remove repeated elements. \n",
    "    merged_list = list(set(li1 + li2))# Your code here to merge the two lists, and then sort the merged list and remove repeated elements\n",
    "    return merged_list # return the merged list"
   ]
  },
  {
   "cell_type": "code",
   "execution_count": 4,
   "metadata": {},
   "outputs": [
    {
     "name": "stdout",
     "output_type": "stream",
     "text": [
      "---------------- task 1 test cases----------------\n",
      "[1, 2, 4, 5, 6, 7, 8, 11]\n"
     ]
    }
   ],
   "source": [
    "# I have written a test case for task 1. Your code should generated the same output\n",
    "print('---------------- task 1 test cases----------------')\n",
    "li1 = [5,2,6,7,2,5,8]\n",
    "li2 = [2,5,2,4,6,7,11,1]\n",
    "print(merge_list(li1, li2))\n",
    " # you code should output: [1, 2, 4, 5, 6, 7, 8, 11]"
   ]
  },
  {
   "cell_type": "markdown",
   "metadata": {},
   "source": [
    "## Task 2: Write a function to merge two dictionaries\n",
    "Given two dictionaries, you want to merge them into one dictionary. For example, dic1 = {1: 100, 2: 200, 3: 300, 4:400}, and dic2 = {1: 1000, 2: 2000, 3: 3000, 4:4000, 5:5000}. You want to merge dic1 and dic2 into one dictionary. All the keys in both dic1 and dic2 will be included in the merged dictionary. Each key in the merged dictionary should has a value of a merged list. For example, both dic1 and dic2 contain a key 1, in the merged list, the key 1 should have value [100, 1000]. So given dic1 and dic2, your merged dictionary should be {1:[100, 1000], 2:[200, 2000], 3:[300, 3000], 4:[400, 4000], 5:[5000]}\n"
   ]
  },
  {
   "cell_type": "code",
   "execution_count": 5,
   "metadata": {},
   "outputs": [],
   "source": [
    "def merge_dictionary(dic1, dic2):\n",
    "    merged_dic = {} # initialize an empty dictionary for the merged dictionary\n",
    "    #Your code here to merge the two dictionaries\n",
    "    merged_dic = {**dic1, **dic2}\n",
    "    for key, value in merged_dic.items():\n",
    "        if key in dic1 and key in dic2:\n",
    "               merged_dic[key] = [dic1[key], value]\n",
    "    return merged_dic # returned merged dictionary"
   ]
  },
  {
   "cell_type": "code",
   "execution_count": 6,
   "metadata": {},
   "outputs": [
    {
     "name": "stdout",
     "output_type": "stream",
     "text": [
      "---------------- task 2 test cases----------------\n",
      "{1: [100, 1000], 2: [200, 2000], 3: [300, 3000], 4: 4000}\n"
     ]
    }
   ],
   "source": [
    "# Test case for task 2. \n",
    "print('---------------- task 2 test cases----------------')\n",
    "dic1 = {1:100, 2:200, 3:300}\n",
    "dic2 = {1:1000, 2:2000, 3:3000, 4:4000}\n",
    "print(merge_dictionary(dic1, dic2)) # should print exactly {1:[100, 1000], 2:[200, 2000], 3:[300, 3000], 4:[4000]}"
   ]
  },
  {
   "cell_type": "markdown",
   "metadata": {},
   "source": [
    "## Task 3 (Word Count). "
   ]
  },
  {
   "cell_type": "markdown",
   "metadata": {},
   "source": [
    "### Task 3.1. Download NLTK, python's naturual language processing package "
   ]
  },
  {
   "cell_type": "code",
   "execution_count": 7,
   "metadata": {},
   "outputs": [
    {
     "name": "stderr",
     "output_type": "stream",
     "text": [
      "[nltk_data] Downloading package punkt to /Users/SG/nltk_data...\n",
      "[nltk_data]   Package punkt is already up-to-date!\n"
     ]
    },
    {
     "data": {
      "text/plain": [
       "True"
      ]
     },
     "execution_count": 7,
     "metadata": {},
     "output_type": "execute_result"
    }
   ],
   "source": [
    "import nltk\n",
    "nltk.download('punkt') # when you run this line of code for the first time, the nltk package will be downloaded. You will see\n",
    "                       # a pop-up window and click download. "
   ]
  },
  {
   "cell_type": "code",
   "execution_count": 8,
   "metadata": {},
   "outputs": [],
   "source": [
    "# I have implemented this function tokensize. It takes a string as a input and splits this string into a list of words (i.e. tokens).\n",
    "# please run this function\n",
    "def tokenize(s):\n",
    "    tokens = [] # initialize the output list\n",
    "    tokens = nltk.word_tokenize(s)\n",
    "    import string  \n",
    "    tokens1 = []\n",
    "    for token in tokens:\n",
    "        if token not in string.punctuation: # remove tokens that are punctuations\n",
    "            tokens1.append(token)\n",
    "    return tokens1 # return a list of tokens"
   ]
  },
  {
   "cell_type": "markdown",
   "metadata": {},
   "source": [
    "### Task 3.2. Implement the function, count_list(li)\n",
    "\n",
    "This method counts how many times each element appears in the list. It outputs a dictionary. Each key-value pair show a list element and its number of occurrences."
   ]
  },
  {
   "cell_type": "code",
   "execution_count": 9,
   "metadata": {},
   "outputs": [],
   "source": [
    "def count_list(li):\n",
    "    dc = {}\n",
    "    # Your code here to do wordcount for each element in the list\n",
    "    \n",
    "    for item in li:\n",
    "        if item in dc:\n",
    "            dc[item] += 1\n",
    "        else:\n",
    "            dc[item] = 1\n",
    "    return dc"
   ]
  },
  {
   "cell_type": "code",
   "execution_count": 10,
   "metadata": {},
   "outputs": [
    {
     "name": "stdout",
     "output_type": "stream",
     "text": [
      "------ test cases for the method count_list() -------\n",
      "{1: 2, 3: 3, 2: 1}\n",
      "{'a': 1, 'b': 3, ' ': 2}\n"
     ]
    }
   ],
   "source": [
    "# test case for task 3.2\n",
    "print(\"------ test cases for the method count_list() -------\")\n",
    "print(count_list([1, 3, 2, 1, 3, 3])) #output: {1: 2, 2: 1, 3: 3}\n",
    "print(count_list(['a', 'b', ' ', ' ', 'b', 'b'])) #output: {'a': 1, 'b': 3, ' ': 2} - The order of the keys does not matter'''"
   ]
  },
  {
   "cell_type": "markdown",
   "metadata": {},
   "source": [
    "### Task 3.3. Implement the function wordcount_file(file_path)\n",
    "You need to implement the function wordcount_file. This function take a file with its path as the argument and outputs a dictitonary. Each key in the dictionary is a unique word, and its value is the count of the word in the file. Within this function, you need to write code to lowercase all words read from the file. "
   ]
  },
  {
   "cell_type": "code",
   "execution_count": 11,
   "metadata": {},
   "outputs": [],
   "source": [
    "def wordcount_file(file_path):\n",
    "    s = \"\"\n",
    "    words = [] \n",
    "    dc = {}\n",
    "    f = open(file_path, 'r', encoding='cp1252')\n",
    "    s = f.read() # this read function will read each file as a string\n",
    "    words = tokenize(s) # call the tokenize method defined previously and split the string into words\n",
    "    # Your code here. The list \"words\" may contain words in both uppercase and lowercase. Your code here to lowercase each word in the list. \n",
    "    text = [word.lower() for word in words]    \n",
    "    dc = count_list(text) # Now, the variable words is a list that includes lowercase words. You call the count_list function you implemented previous to obtain a dictionary\n",
    "    return dc"
   ]
  },
  {
   "cell_type": "code",
   "execution_count": 12,
   "metadata": {},
   "outputs": [
    {
     "name": "stdout",
     "output_type": "stream",
     "text": [
      "{'jpmorgan': 3, 'chase': 1, 'on': 3, 'wednesday': 1, 'reported': 2, 'an': 2, 'unexpected': 1, 'drop': 1, 'in': 5, 'profit': 4, 'during': 1, 'a': 9, 'sluggish': 1, 'fourth': 2, 'quarter': 2, 'the': 17, 'bank': 4, 'said': 1, 'its': 1, 'earnings': 1, 'fell': 2, '7': 1, 'percent': 4, 'to': 3, '4.9': 1, 'billion': 7, 'or': 3, '1.19': 1, 'share': 3, 'from': 2, '5.6': 1, '1.30': 1, 'period': 1, 'year': 1, 'earlier': 1, 'most': 1, 'recent': 1, 'results': 1, 'short': 1, 'of': 5, '1.31': 1, 'expected': 1, 'by': 6, 'analysts': 2, 'surveyed': 1, 'thomson': 1, 'reuters': 1, 'net': 1, 'revenue': 2, 'at': 1, 'dropped': 1, '3': 1, '22.5': 1, '2013': 1, 'so-called': 1, 'managed': 1, 'basis': 2, 'was': 2, '23.55': 1, 'slightly': 1, 'below': 1, '23.6': 1, 'anticipated': 1, '’': 2, 's': 2, 'shares': 1, 'were': 1, 'down': 1, '4': 1, 'midmorning': 1, 'trading': 1, 'for': 2, '2014': 1, 'as': 2, 'whole': 1, '21.8': 1, '21': 1, 'increase': 1, 'and': 1, 'highest': 1, 'ever': 1, 'annual': 1, 'company': 2, 'quarterly': 1, 'hurt': 1, '900': 1, 'million': 1, 'new': 1, 'legal': 2, 'expenses': 1, '1.1': 1, 'pretax': 1, 'prepared': 1, 'settle': 1, 'investigation': 1, 'into': 1, 'manipulation': 1, 'foreign': 1, 'currency': 1, 'markets': 1, 'big': 2, 'banks': 1, 'these': 1, 'are': 1, 'latest': 1, 'costs': 1, 'being': 1, 'absorbed': 1, 'wake': 1, 'financial': 1, 'crisis': 1}\n"
     ]
    },
    {
     "data": {
      "text/plain": [
       "\"\\n{'jpmorgan': 3,\\n 'chase': 1,\\n 'on': 3,\\n 'wednesday': 1,\\n 'reported': 2,\\n 'an': 2,\\n 'unexpected': 1,\\n 'drop': 1,\\n 'in': 5,\\n 'profit': 4,\\n 'during': 1,\\n 'a': 9,\\n 'sluggish': 1,\\n 'fourth': 2,\\n 'quarter': 2,\\n 'the': 17,\\n 'bank': 4,\\n 'said': 1,\\n 'its': 1,\\n 'earnings': 1,\\n 'fell': 2,\\n '7': 1,\\n 'percent': 4,\\n 'to': 3,\\n '4.9': 1,\\n 'billion': 7,\\n 'or': 3,\\n '1.19': 1,\\n 'share': 3,\\n 'from': 2,\\n '5.6': 1,\\n '1.30': 1,\\n 'period': 1,\\n 'year': 1,\\n 'earlier': 1,\\n 'most': 1,\\n 'recent': 1,\\n 'results': 1,\\n 'short': 1,\\n 'of': 5,\\n '1.31': 1,\\n 'expected': 1,\\n 'by': 6,\\n 'analysts': 2,\\n 'surveyed': 1,\\n 'thomson': 1,\\n 'reuters': 1,\\n 'net': 1,\\n 'revenue': 2,\\n 'at': 1,\\n 'dropped': 1,\\n '3': 1,\\n '22.5': 1,\\n '2013': 1,\\n 'so-called': 1,\\n 'managed': 1,\\n 'basis': 2,\\n 'was': 2,\\n '23.55': 1,\\n 'slightly': 1,\\n 'below': 1,\\n '23.6': 1,\\n 'anticipated': 1,\\n '’': 2,\\n 's': 2,\\n 'shares': 1,\\n 'were': 1,\\n 'down': 1,\\n '4': 1,\\n 'midmorning': 1,\\n 'trading': 1,\\n 'for': 2,\\n '2014': 1,\\n 'as': 2,\\n 'whole': 1,\\n '21.8': 1,\\n '21': 1,\\n 'increase': 1,\\n 'and': 1,\\n 'highest': 1,\\n 'ever': 1,\\n 'annual': 1,\\n 'company': 2,\\n 'quarterly': 1,\\n 'hurt': 1,\\n '900': 1,\\n 'million': 1,\\n 'new': 1,\\n 'legal': 2,\\n 'expenses': 1,\\n '1.1': 1,\\n 'pretax': 1,\\n 'prepared': 1,\\n 'settle': 1,\\n 'investigation': 1,\\n 'into': 1,\\n 'manipulation': 1,\\n 'foreign': 1,\\n 'currency': 1,\\n 'markets': 1,\\n 'big': 2,\\n 'banks': 1,\\n 'these': 1,\\n 'are': 1,\\n 'latest': 1,\\n 'costs': 1,\\n 'being': 1,\\n 'absorbed': 1,\\n 'wake': 1,\\n 'financial': 1,\\n 'crisis': 1}\\n\""
      ]
     },
     "execution_count": 12,
     "metadata": {},
     "output_type": "execute_result"
    }
   ],
   "source": [
    "# test case for task 3.3.\n",
    "print(wordcount_file(\"wordcount_data/news1.txt\"))\n",
    "# your output should be a dictionary like the following - the order of the keys does not matter, and also you \n",
    "# don't need to print the key/value pairs line by line. It's ok if you see \\n before each key/value pair. That's not an error.\n",
    "\"\"\"\n",
    "{'jpmorgan': 3,\n",
    " 'chase': 1,\n",
    " 'on': 3,\n",
    " 'wednesday': 1,\n",
    " 'reported': 2,\n",
    " 'an': 2,\n",
    " 'unexpected': 1,\n",
    " 'drop': 1,\n",
    " 'in': 5,\n",
    " 'profit': 4,\n",
    " 'during': 1,\n",
    " 'a': 9,\n",
    " 'sluggish': 1,\n",
    " 'fourth': 2,\n",
    " 'quarter': 2,\n",
    " 'the': 17,\n",
    " 'bank': 4,\n",
    " 'said': 1,\n",
    " 'its': 1,\n",
    " 'earnings': 1,\n",
    " 'fell': 2,\n",
    " '7': 1,\n",
    " 'percent': 4,\n",
    " 'to': 3,\n",
    " '4.9': 1,\n",
    " 'billion': 7,\n",
    " 'or': 3,\n",
    " '1.19': 1,\n",
    " 'share': 3,\n",
    " 'from': 2,\n",
    " '5.6': 1,\n",
    " '1.30': 1,\n",
    " 'period': 1,\n",
    " 'year': 1,\n",
    " 'earlier': 1,\n",
    " 'most': 1,\n",
    " 'recent': 1,\n",
    " 'results': 1,\n",
    " 'short': 1,\n",
    " 'of': 5,\n",
    " '1.31': 1,\n",
    " 'expected': 1,\n",
    " 'by': 6,\n",
    " 'analysts': 2,\n",
    " 'surveyed': 1,\n",
    " 'thomson': 1,\n",
    " 'reuters': 1,\n",
    " 'net': 1,\n",
    " 'revenue': 2,\n",
    " 'at': 1,\n",
    " 'dropped': 1,\n",
    " '3': 1,\n",
    " '22.5': 1,\n",
    " '2013': 1,\n",
    " 'so-called': 1,\n",
    " 'managed': 1,\n",
    " 'basis': 2,\n",
    " 'was': 2,\n",
    " '23.55': 1,\n",
    " 'slightly': 1,\n",
    " 'below': 1,\n",
    " '23.6': 1,\n",
    " 'anticipated': 1,\n",
    " '’': 2,\n",
    " 's': 2,\n",
    " 'shares': 1,\n",
    " 'were': 1,\n",
    " 'down': 1,\n",
    " '4': 1,\n",
    " 'midmorning': 1,\n",
    " 'trading': 1,\n",
    " 'for': 2,\n",
    " '2014': 1,\n",
    " 'as': 2,\n",
    " 'whole': 1,\n",
    " '21.8': 1,\n",
    " '21': 1,\n",
    " 'increase': 1,\n",
    " 'and': 1,\n",
    " 'highest': 1,\n",
    " 'ever': 1,\n",
    " 'annual': 1,\n",
    " 'company': 2,\n",
    " 'quarterly': 1,\n",
    " 'hurt': 1,\n",
    " '900': 1,\n",
    " 'million': 1,\n",
    " 'new': 1,\n",
    " 'legal': 2,\n",
    " 'expenses': 1,\n",
    " '1.1': 1,\n",
    " 'pretax': 1,\n",
    " 'prepared': 1,\n",
    " 'settle': 1,\n",
    " 'investigation': 1,\n",
    " 'into': 1,\n",
    " 'manipulation': 1,\n",
    " 'foreign': 1,\n",
    " 'currency': 1,\n",
    " 'markets': 1,\n",
    " 'big': 2,\n",
    " 'banks': 1,\n",
    " 'these': 1,\n",
    " 'are': 1,\n",
    " 'latest': 1,\n",
    " 'costs': 1,\n",
    " 'being': 1,\n",
    " 'absorbed': 1,\n",
    " 'wake': 1,\n",
    " 'financial': 1,\n",
    " 'crisis': 1}\n",
    "\"\"\""
   ]
  },
  {
   "cell_type": "markdown",
   "metadata": {},
   "source": [
    "### Task 3.4. Implement the function wordcount_directory(directory) \n",
    "This functions does wordcount for words in a directory that may include a number of files. It takes a directory as the argument and returns a dictionary with words as keys and wordcounts as values."
   ]
  },
  {
   "cell_type": "code",
   "execution_count": 13,
   "metadata": {},
   "outputs": [
    {
     "name": "stdout",
     "output_type": "stream",
     "text": [
      "Counter({'the': 61, 'of': 34, 'to': 25, 'in': 22, 'and': 22, 'on': 20, 'a': 20, 'by': 13, 'billion': 12, 'was': 11, '': 10, 'as': 9, 'for': 9, 'The': 8, 'net': 8, 'billion,': 7, 'from': 7, 'legal': 7, 'page': 7, 'JPMorgan': 6, 'or': 6, 'revenue': 6, 'at': 6, 'our': 6, 'reported': 5, 'an': 5, 'profit': 5, 'fourth': 5, 'bank': 5, 'year': 5, 'were': 5, 'which': 5, 'income': 5, 'impact': 5, 'with': 5, 'be': 5, 'preferred': 5, 'Chase': 4, 'quarter.': 4, 'earnings': 4, 'quarter': 4, 'below': 4, 'down': 4, 'is': 4, 'EPS': 4, 'In': 4, \"we've\": 4, 'that': 4, 'dividends': 4, 'this': 4, 'fell': 3, '$4.9': 3, '$1.19': 3, 'recent': 3, 'results': 3, 'For': 3, '$1.1': 3, 'are': 3, 'going': 3, 'return': 3, 'tangible': 3, 'common': 3, 'equity': 3, 'expense': 3, 'approximately': 3, 'we': 3, 'will': 3, 'here': 3, 'record': 3, 'capital': 3, \"firm's\": 3, 'ratio': 3, 'has': 3, 'Wednesday': 2, 'during': 2, 'said': 2, 'its': 2, 'percent,': 2, 'share,': 2, '$1.31': 2, 'basis,': 2, '$23.6': 2, 'bank’s': 2, 'percent': 2, 'increase': 2, 'million': 2, 'company': 2, 'into': 2, 'big': 2, \"I'm\": 2, 'through': 2, 'presentation,': 2, 'firm': 2, 'incremental': 2, 'go': 2, 'call': 2, 'those': 2, 'page.': 2, 'positive': 2, 'So': 2, 'expense,': 2, 'well': 2, 'these': 2, 'core': 2, \"we're\": 2, 'nearly': 2, 'You': 2, 'can': 2, 'see': 2, 'line': 2, 'cost': 2, 'points': 2, 'distributions': 2, 'fully': 2, 'phased': 2, 'flat': 2, 'more': 2, 'also': 2, 'SLR': 2, 'And': 2, 'given': 2, 'each': 2, 'presentation': 2, 'show': 2, 'contra': 2, 'LOB': 2, 'throughout': 2, 'all': 2, 'increased': 2, 'Dimon': 2, 'about': 2, 'how': 2, 'share.': 2, 'some': 2, 'unexpected': 1, 'drop': 1, 'sluggish': 1, '7': 1, '$5.6': 1, '$1.30': 1, 'period': 1, 'earlier.': 1, 'most': 1, 'short': 1, 'share': 1, 'expected': 1, 'analysts': 1, 'surveyed': 1, 'Thomson': 1, 'Reuters.': 1, 'Net': 1, 'dropped': 1, '3': 1, '$22.5': 1, '2013.': 1, 'On': 1, 'so-called': 1, 'managed': 1, '$23.55': 1, 'slightly': 1, 'anticipated': 1, 'analysts.': 1, 'shares': 1, '4': 1, 'midmorning': 1, 'trading.': 1, '2014': 1, 'whole,': 1, '$21.8': 1, '21': 1, 'highest': 1, 'ever': 1, 'annual': 1, 'company.': 1, 'quarterly': 1, 'hurt': 1, '$900': 1, 'new': 1, 'expenses,': 1, 'pretax': 1, 'prepared': 1, 'settle': 1, 'investigation': 1, 'manipulation': 1, 'foreign': 1, 'currency': 1, 'markets': 1, 'banks.': 1, 'These': 1, 'latest': 1, 'costs': 1, 'being': 1, 'absorbed': 1, 'wake': 1, 'financial': 1, 'crisis.': 1, 'Marianne': 1, 'Lake': 1, '(CFO):': 1, 'Thank': 1, 'you,': 1, 'Operator.': 1, 'Good': 1, 'morning,': 1, 'everyone.': 1, 'take': 1, 'you': 1, 'available': 1, 'Web': 1, 'site.': 1, 'Please': 1, 'refer': 1, 'disclaimer': 1, 'regarding': 1, 'forward-looking': 1, 'statements,': 1, 'back': 1, 'presentation.': 1, 'Starting': 1, '1,': 1, '11%': 1, 'Included': 1, 'total': 1, '$1': 1, 'after': 1, 'tax.': 1, 'large': 1, 'part': 1, 'amount': 1, 'FX.': 1, 'As': 1, 'I': 1, 'out': 1, 'other': 1, 'notable': 1, 'items.': 1, 'your': 1, 'reference,': 1, 'included': 1, 'front': 1, 'total,': 1, 'they': 1, 'contributed': 1, '$0.12': 1, 'EPS.': 1, 'adjusting': 1, 'items,': 1, 'gives': 1, '$5.5': 1, '$1.33': 1, 'reflecting': 1, 'solid': 1, 'performance.': 1, 'skip': 1, 'over': 1, '2': 1, 'straight': 1, 'full-year': 1, '3.': 1, '$22': 1, '$5.29': 1, '13%': 1, '$98': 1, 'revenue.': 1, 'Excluding': 1, 'remains': 1, 'elevated,': 1, '$24': 1, '14%.': 1, 'bottom': 1, 'adjusted': 1, '$58.4': 1, 'guidance': 1, '$650': 1, 'prior': 1, 'despite': 1, 'control,': 1, 'continuing': 1, 'invest': 1, 'businesses.': 1, 'A': 1, 'final': 1, 'couple': 1, 'year,': 1, 'loan': 1, 'growth': 1, 'strong': 1, '8%': 1, 'year-on-year': 1, '$10': 1, 'including': 1, '$6': 1, 'billion.': 1, 'Turning': 1, '4,': 1, 'advanced': 1, 'CET1': 1, '10.1%,': 1, 'last': 1, 'portfolio': 1, 'runoff': 1, 'offset': 1, 'risk-weighted': 1, 'assets': 1, 'predominantly': 1, 'driven': 1, 'higher': 1, 'counterparty': 1, 'credit': 1, 'risk.': 1, 'terms': 1, '2015': 1, 'outlook,': 1, 'expect': 1, 'add': 1, '50': 1, 'basis': 1, 'ratio.': 1, 'Similarly,': 1, 'standardized': 1, 'not': 1, 'remained': 1, '10.5%.': 1, '5.6%': 1, \"bank's\": 1, 'improved': 1, '5.9%.': 1, 'FSB': 1, 'proposal,': 1, 'added': 1, 'best': 1, 'estimate': 1, 'TLAC': 1, '15%,': 1, 'excluding': 1, 'buffers,': 1, 'refined': 1, 'rules': 1, 'finalized.': 1, 'Moving': 1, '5': 1, 'before': 1, 'move': 1, 'businesses,': 1, 'quarter,': 1, 'changed': 1, 'lines': 1, 'business': 1, 'Company,': 1, 'continue': 1, 'line;': 1, 'however,': 1, 'historically': 1, 'allocated': 1, 'stock': 1, 'businesses': 1, 'interest': 1, 'corresponding': 1, 'corporate': 1, 'NII.': 1, 'order': 1, 'have': 1, 'cleaner': 1, 'trends': 1, 'better': 1, 'peer': 1, 'comparability,': 1, 'now': 1, 'presenting': 1, 'LOBs,': 1, 'particularly': 1, 'important': 1, 'increases': 1, 'issuance.': 1, 'slide': 1, 'change': 1, 'methodology': 1, 'no': 1, 'firm-wide': 1, 'financials': 1, 'nor': 1, 'returns': 1, 'equity.': 1, 'While': 1, 'revenue,': 1, 'overhead': 1, 'ratios': 1, 'improve,': 1, 'additionally': 1, 'adjustment': 1, 'affects': 1, 'CIB.': 1, 'supplement,': 1, 'numbers': 1, 'periods': 1, 'consistently': 1, 'reflect': 1, 'change.': 1, 'Banking': 1, 'giant': 1, 'used': 1, 'golden': 1, 'child': 1, 'Wall': 1, 'Street.': 1, 'But': 1, 'disappointed': 1, 'investors': 1, 'reporting': 1, 'profits': 1, 'forecasts': 1, '--': 1, 'largely': 1, 'due': 1, 'costs.': 1, 'CEO': 1, 'Jamie': 1, 'continues': 1, 'resentment': 1, 'much': 1, 'scrutiny': 1, 'his': 1, 'come': 1, 'under': 1, 'various': 1, 'government': 1, 'agencies.': 1, 'During': 1, 'conference': 1, 'reporters,': 1, '\"under': 1, 'assault\"': 1, 'regulators.': 1, 'When': 1, 'asked': 1, 'details': 1, 'that,': 1, 'he': 1, 'responded': 1, 'saying,': 1, '\"You\\'ve': 1, 'got': 1, 'kidding': 1, 'me.\"': 1, 'To': 1, 'sure,': 1, 'hardly': 1, 'struggling.': 1, 'Still,': 1, '7%': 1, 'ago': 1, 'translated': 1, 'Analysts': 1, 'expecting': 1, 'Profits': 1, 'weighed': 1, 'expenses': 1, 'bank,': 1, 'along': 1, 'rivals,': 1, 'been': 1, 'accused': 1, 'federal': 1, 'regulators': 1, 'around': 1, 'world': 1, 'manipulating': 1, 'foreign-exchange': 1, 'markets.': 1, 'settled': 1, 'charges': 1, 'November.': 1, 'Revenue': 1, '2%': 1, '2013': 1, 'well.': 1, 'There': 1, 'concerns': 1, 'industry': 1, 'regulations': 1, 'calls': 1, 'boost': 1, 'requirements': 1, 'make': 1, 'firms': 1, 'far': 1, 'less': 1, 'profitable': 1, 'future.': 1})\n"
     ]
    }
   ],
   "source": [
    "from collections import Counter\n",
    "import os\n",
    "\n",
    "# 1. you need to first look at how to find the filenames of all files in the directory: hint: look at the OS module see tutorual\n",
    "def wordcount_directory(filename):\n",
    "    mydir = 'wordcount_data'\n",
    "     # 2. read files in the directory one by one. You use directory + \"/\" + filename to get the path for reading a file \n",
    "    file = mydir + \"/\" + filename\n",
    "    with open(file, 'r', encoding='cp1252') as f:\n",
    "        c = Counter()\n",
    "        for line in f:\n",
    "            c.update(line.strip().split(' '))\n",
    "        return c\n",
    "    # 3. After you read a file, call the \"wordcount_file\" method to do wordcount for the file. You are going to get\n",
    "    #    a dictionary for each file\n",
    "    # 4. you need to combine the wordcount results for all files in the directory.\n",
    "    #    the idea is that after reading the first file, you will get a dictionary that shows wordcounts for the file,\n",
    "    #    You need to add results stored in the dictionary to \"dc\", the output dictionary. Then you read the second file, and you again get a dictionary.\n",
    "    #    You need to add the results stored in the dictionary again to \"dict\", and so on.\n",
    "    #    How to add the contents in a dictionary to another dictionary? you need to take out a key-value pair from the former and check to see if\n",
    "    #    the latter already has the key, if yes, you need to modify the value associated with the key,\n",
    "    #    if no, you just add the key-value pair to the latter.\n",
    "files = os.listdir(\"wordcount_data\")\n",
    "counters = [wordcount_directory(filename) for filename in files]\n",
    "total = sum(counters, Counter()) \n",
    "# The function call below will show you the wordcounts in the directory \"wordcount_data\"\n",
    "print(total)\n",
    "\n"
   ]
  },
  {
   "cell_type": "code",
   "execution_count": null,
   "metadata": {},
   "outputs": [],
   "source": []
  }
 ],
 "metadata": {
  "kernelspec": {
   "display_name": "Python 3 (ipykernel)",
   "language": "python",
   "name": "python3"
  },
  "language_info": {
   "codemirror_mode": {
    "name": "ipython",
    "version": 3
   },
   "file_extension": ".py",
   "mimetype": "text/x-python",
   "name": "python",
   "nbconvert_exporter": "python",
   "pygments_lexer": "ipython3",
   "version": "3.9.11"
  }
 },
 "nbformat": 4,
 "nbformat_minor": 2
}
